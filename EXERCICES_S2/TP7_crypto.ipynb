{
 "cells": [
  {
   "cell_type": "markdown",
   "metadata": {},
   "source": [
    "# Cryptographie\n",
    "\n",
    "Nous allons programmer une interface pour chiffrer et déchiffrer un message à partir d'une clé secrète.\n",
    "Vous commencerez par créer l'interface graphique suivante : deux zones de saisies de texte `Entry`, pour récupérer\n",
    "le message à chiffrer et la clé, deux boutons pour chiffrer et déchiffrer et une zone de saisie pour afficher le résultat (et pouvoir copier le résultat). "
   ]
  },
  {
   "cell_type": "code",
   "execution_count": 1,
   "metadata": {},
   "outputs": [],
   "source": [
    "import tkinter as tk\n"
   ]
  },
  {
   "cell_type": "markdown",
   "metadata": {},
   "source": [
    "1. Créer une fonction `decalage(lettre_message,lettre_cle)` qui prend en argument deux caractères ASCII (en python chaine de caractères d'une lettre) et qui renvoie le décalage de la première lettre par la seconde. On rapelle que la fonction `ord(caractere)` donne le code (entier) de `caractere` et que la fonction `chr(code)` qui transforme le code en le caractère correspondant. Les codes ASCII sont sur 8 bits."
   ]
  },
  {
   "cell_type": "code",
   "execution_count": 11,
   "metadata": {},
   "outputs": [
    {
     "name": "stdout",
     "output_type": "stream",
     "text": [
      "b\n",
      "a\n",
      "97\n",
      "122\n"
     ]
    },
    {
     "data": {
      "text/plain": [
       "'a'"
      ]
     },
     "execution_count": 11,
     "metadata": {},
     "output_type": "execute_result"
    }
   ],
   "source": [
    "placement=0\n",
    "def decalage(lettre_message,lettre_cle):\n",
    "    indice=ord(lettre_message)-ord(\"a\")\n",
    "    decal=ord(lettre_cle)-ord(\"a\") \n",
    "    new_pos=(indice+decal)%26\n",
    "    return chr(new_pos+ord(\"a\"))\n",
    "\n",
    "\n",
    "\n",
    "print(decalage(\"a\",\"b\"))\n",
    "print(decalage(\"z\",\"b\"))\n",
    "print(ord(\"a\"))\n",
    "print(ord(\"z\"))\n",
    "chr(97)"
   ]
  },
  {
   "cell_type": "markdown",
   "metadata": {},
   "source": [
    "2. Créer une fonction `chiffrer()` qui lit le message et la clé contenus dans les deux widgets `Entry` et \n",
    "applique lettre par lettre la fonction décalage. Si la clé est trop courte, elle est répétée cycliquement.\n",
    "Le résultat est affiché dans le widget `Entry` prévu à cet usage. \n",
    "Pour afficher dans un widget `Entry` qui s'appelle `entree`, il faut faire `entree.insert(0,texte)`\n",
    "et pour effacer le contenu du widget faire `entree.delete(0,tk.END)`. On fera une fonction qui effectuera le calcul et une fonction callback pour l'appliquer à nos textes en entrée."
   ]
  },
  {
   "cell_type": "code",
   "execution_count": 16,
   "metadata": {},
   "outputs": [
    {
     "name": "stdout",
     "output_type": "stream",
     "text": [
      "kajbjeocpdf\n"
     ]
    }
   ],
   "source": [
    "def dec_texte(texte,cle):\n",
    "    res=\"\"\n",
    "    for i in range (len(texte)):\n",
    "        if i%len(cle)==0:\n",
    "            cle+=cle\n",
    "        res+=decalage(texte[i],cle[i])\n",
    "    return res\n",
    "\n",
    "print(dec_texte(\"jaibiencode\",\"ba\"))\n",
    "\n",
    "def chiffre():#gère la lecture dans les champs d'entrée et l'affichage du résultat \n",
    "     if len(entree.cle.get())==0 or len(entree_texte.get()) ==0:\n",
    "        print('remplir les deux champ')\n",
    "     else:\n",
    "        resultat.delete(0,tk.END)\n",
    "        resultat.insert(0,dec_texte(entree_texte.get(),entree_cle.get()))\n"
   ]
  },
  {
   "cell_type": "markdown",
   "metadata": {},
   "source": [
    "3. Détecter si le message ou la clé est vide, pour afficher un message d'erreur."
   ]
  },
  {
   "cell_type": "code",
   "execution_count": null,
   "metadata": {},
   "outputs": [],
   "source": [
    "def erreurs(cle):\n",
    "    if cle == \"\":\n",
    "        print(\"ERROR: clé vide!\")\n",
    "    elif cle==None:\n",
    "        print(\"ERROR: clé vide!\")\n",
    "      "
   ]
  },
  {
   "cell_type": "markdown",
   "metadata": {},
   "source": [
    "4. Créer une fonction `dechiffrer()` qui lit le message et la clé contenue dans les deux widgets `Entry` et déchiffre le message grâce à la clé. Le résultat est affiché dans le `Label` prévu à cet usage.\n",
    "En quoi l'opération est différente du chiffrement ?"
   ]
  },
  {
   "cell_type": "code",
   "execution_count": 18,
   "metadata": {},
   "outputs": [
    {
     "name": "stdout",
     "output_type": "stream",
     "text": [
      "jaibiencode\n"
     ]
    }
   ],
   "source": [
    "def decalage_inv(lettre_message,lettre_cle):\n",
    "    indice=ord(lettre_message)-ord(\"a\")\n",
    "    decal=ord(lettre_cle)-ord(\"a\") \n",
    "    new_pos=(indice-decal)%26\n",
    "    return chr(new_pos+ord(\"a\"))\n",
    "\n",
    "\n",
    "def dec_texte_inv(texte,cle):\n",
    "    res=\"\"\n",
    "    for i in range (len(texte)):\n",
    "        if i%len(cle)==0:\n",
    "            cle+=cle\n",
    "        res+=decalage_inv(texte[i],cle[i])\n",
    "    return res\n",
    "        \n",
    "        \n",
    "    \n",
    "\n",
    "def dechiffre():\n",
    "\n",
    "# gère la lecture dans les champs d'entrée et l'affichage du résultat \n",
    "    if len(entree.cle.get())==0 or len(entree_texte.get()) ==0:\n",
    "        print('remplir les deux champ')\n",
    "    else:\n",
    "        resultat.delete(0,tk.END)\n",
    "        resultat.insert(0,dec_texte_inv(entree_texte.get(),entree_cle.get()))\n",
    "print(dec_texte_inv(\"kajbjeocpdf\",\"ba\"))"
   ]
  },
  {
   "cell_type": "markdown",
   "metadata": {},
   "source": [
    "5. Tester votre programme en envoyant un message crypté à un de vos camarades et en lui donnant la clé à l'oral (par exemple votre prénom). Il doit être capable de retrouver le texte original."
   ]
  },
  {
   "cell_type": "markdown",
   "metadata": {},
   "source": [
    "6. Crypter un texte et cacher le dans une image avec le programme du TD précédent et envoyer le résultat à un camarade. Est-il capable de récupérer le message ?"
   ]
  },
  {
   "cell_type": "markdown",
   "metadata": {},
   "source": [
    "7. Au lieu de chiffrer caractère par caractère, on veut coder bit à bit en appliquant un XOR. \n",
    "Donner une nouvelle méthode `chiffre_xor(lettre_message,lettre_cle)` pour remplacer `decalage(lettre_message,lettre_cle)` et tester votre nouvelle méthode cryptage."
   ]
  },
  {
   "cell_type": "code",
   "execution_count": 27,
   "metadata": {},
   "outputs": [
    {
     "name": "stdout",
     "output_type": "stream",
     "text": [
      "\u0003\n",
      "\u000eC\u0015\u001e\u0010P\u0018\n",
      "P\u0019\u0001\u0003\u0019\n",
      "c'est un test\n"
     ]
    }
   ],
   "source": [
    "def chiffre_xor(lettre_message,lettre_cle):\n",
    "    return chr(ord(lettre_message)^ord(lettre_cle))\n",
    "\n",
    "print(chiffre_xor(\"a\",\"b\"))\n",
    "\n",
    "def dec_texte_xor(texte,cle):\n",
    "    res=\"\"\n",
    "    for i in range (len(texte)):\n",
    "        if i%len(cle)==0:\n",
    "            cle+=cle\n",
    "        res+=chiffre_xor(texte[i],cle[i])\n",
    "    return res\n",
    "\n",
    "print(dec_texte_xor(\"c'est un test\",\"mdp\"))\n",
    "print(dec_texte_xor(dec_texte_xor(\"c'est un test\",\"mdp\"),\"mdp\"))\n"
   ]
  },
  {
   "cell_type": "code",
   "execution_count": 20,
   "metadata": {},
   "outputs": [
    {
     "name": "stdout",
     "output_type": "stream",
     "text": [
      "5\n",
      "7\n"
     ]
    }
   ],
   "source": [
    "print(7^2)\n",
    "print(5^2)"
   ]
  },
  {
   "cell_type": "code",
   "execution_count": 54,
   "metadata": {},
   "outputs": [
    {
     "ename": "TclError",
     "evalue": "invalid command name \".!label\"",
     "output_type": "error",
     "traceback": [
      "\u001b[1;31m---------------------------------------------------------------------------\u001b[0m",
      "\u001b[1;31mTclError\u001b[0m                                  Traceback (most recent call last)",
      "Cell \u001b[1;32mIn[54], line 28\u001b[0m\n\u001b[0;32m     23\u001b[0m entree_cle\u001b[38;5;241m=\u001b[39mtk\u001b[38;5;241m.\u001b[39mEntry(fenetre, width\u001b[38;5;241m=\u001b[39m\u001b[38;5;241m30\u001b[39m)\n\u001b[0;32m     24\u001b[0m entree_cle\u001b[38;5;241m.\u001b[39mgrid(column\u001b[38;5;241m=\u001b[39m\u001b[38;5;241m2\u001b[39m,row\u001b[38;5;241m=\u001b[39m\u001b[38;5;241m0\u001b[39m)\n\u001b[1;32m---> 28\u001b[0m ButtonCrypt\u001b[38;5;241m=\u001b[39mtk\u001b[38;5;241m.\u001b[39mButton(fenetre, text\u001b[38;5;241m=\u001b[39m\u001b[38;5;124m\"\u001b[39m\u001b[38;5;124mcrypter\u001b[39m\u001b[38;5;124m\"\u001b[39m,command\u001b[38;5;241m=\u001b[39m\u001b[43mchiffre\u001b[49m\u001b[43m(\u001b[49m\u001b[43m)\u001b[49m)\n\u001b[0;32m     29\u001b[0m ButtonCrypt\u001b[38;5;241m.\u001b[39mgrid(column\u001b[38;5;241m=\u001b[39m\u001b[38;5;241m1\u001b[39m,row\u001b[38;5;241m=\u001b[39m\u001b[38;5;241m1\u001b[39m)\n\u001b[0;32m     31\u001b[0m ButtonDecrypt\u001b[38;5;241m=\u001b[39mtk\u001b[38;5;241m.\u001b[39mButton(fenetre, text\u001b[38;5;241m=\u001b[39m \u001b[38;5;124m\"\u001b[39m\u001b[38;5;124mdecrypter\u001b[39m\u001b[38;5;124m\"\u001b[39m, command\u001b[38;5;241m=\u001b[39mdechiffre())\n",
      "Cell \u001b[1;32mIn[54], line 12\u001b[0m, in \u001b[0;36mchiffre\u001b[1;34m()\u001b[0m\n\u001b[0;32m     10\u001b[0m \u001b[38;5;28;01mdef\u001b[39;00m \u001b[38;5;21mchiffre\u001b[39m():\u001b[38;5;66;03m#gère la lecture dans les champs d'entrée et l'affichage du résultat \u001b[39;00m\n\u001b[0;32m     11\u001b[0m      \u001b[38;5;28;01mif\u001b[39;00m \u001b[38;5;28mlen\u001b[39m(entree_cle\u001b[38;5;241m.\u001b[39mget())\u001b[38;5;241m==\u001b[39m\u001b[38;5;241m0\u001b[39m \u001b[38;5;129;01mor\u001b[39;00m \u001b[38;5;28mlen\u001b[39m(entree_texte\u001b[38;5;241m.\u001b[39mget()) \u001b[38;5;241m==\u001b[39m\u001b[38;5;241m0\u001b[39m:\n\u001b[1;32m---> 12\u001b[0m         \u001b[43mresultat\u001b[49m\u001b[38;5;241;43m.\u001b[39;49m\u001b[43mconfig\u001b[49m\u001b[43m(\u001b[49m\u001b[43mtext\u001b[49m\u001b[38;5;241;43m=\u001b[39;49m\u001b[38;5;124;43m'\u001b[39;49m\u001b[38;5;124;43mremplir les deux champ\u001b[39;49m\u001b[38;5;124;43m'\u001b[39;49m\u001b[43m)\u001b[49m\n\u001b[0;32m     13\u001b[0m      \u001b[38;5;28;01melse\u001b[39;00m:\n\u001b[0;32m     14\u001b[0m         resultat\u001b[38;5;241m.\u001b[39mdelete(\u001b[38;5;241m0\u001b[39m,tk\u001b[38;5;241m.\u001b[39mEND)\n",
      "File \u001b[1;32mc:\\Users\\Jeune\\AppData\\Local\\Programs\\Python\\Python312\\Lib\\tkinter\\__init__.py:1702\u001b[0m, in \u001b[0;36mMisc.configure\u001b[1;34m(self, cnf, **kw)\u001b[0m\n\u001b[0;32m   1695\u001b[0m \u001b[38;5;28;01mdef\u001b[39;00m \u001b[38;5;21mconfigure\u001b[39m(\u001b[38;5;28mself\u001b[39m, cnf\u001b[38;5;241m=\u001b[39m\u001b[38;5;28;01mNone\u001b[39;00m, \u001b[38;5;241m*\u001b[39m\u001b[38;5;241m*\u001b[39mkw):\n\u001b[0;32m   1696\u001b[0m \u001b[38;5;250m    \u001b[39m\u001b[38;5;124;03m\"\"\"Configure resources of a widget.\u001b[39;00m\n\u001b[0;32m   1697\u001b[0m \n\u001b[0;32m   1698\u001b[0m \u001b[38;5;124;03m    The values for resources are specified as keyword\u001b[39;00m\n\u001b[0;32m   1699\u001b[0m \u001b[38;5;124;03m    arguments. To get an overview about\u001b[39;00m\n\u001b[0;32m   1700\u001b[0m \u001b[38;5;124;03m    the allowed keyword arguments call the method keys.\u001b[39;00m\n\u001b[0;32m   1701\u001b[0m \u001b[38;5;124;03m    \"\"\"\u001b[39;00m\n\u001b[1;32m-> 1702\u001b[0m     \u001b[38;5;28;01mreturn\u001b[39;00m \u001b[38;5;28;43mself\u001b[39;49m\u001b[38;5;241;43m.\u001b[39;49m\u001b[43m_configure\u001b[49m\u001b[43m(\u001b[49m\u001b[38;5;124;43m'\u001b[39;49m\u001b[38;5;124;43mconfigure\u001b[39;49m\u001b[38;5;124;43m'\u001b[39;49m\u001b[43m,\u001b[49m\u001b[43m \u001b[49m\u001b[43mcnf\u001b[49m\u001b[43m,\u001b[49m\u001b[43m \u001b[49m\u001b[43mkw\u001b[49m\u001b[43m)\u001b[49m\n",
      "File \u001b[1;32mc:\\Users\\Jeune\\AppData\\Local\\Programs\\Python\\Python312\\Lib\\tkinter\\__init__.py:1692\u001b[0m, in \u001b[0;36mMisc._configure\u001b[1;34m(self, cmd, cnf, kw)\u001b[0m\n\u001b[0;32m   1690\u001b[0m \u001b[38;5;28;01mif\u001b[39;00m \u001b[38;5;28misinstance\u001b[39m(cnf, \u001b[38;5;28mstr\u001b[39m):\n\u001b[0;32m   1691\u001b[0m     \u001b[38;5;28;01mreturn\u001b[39;00m \u001b[38;5;28mself\u001b[39m\u001b[38;5;241m.\u001b[39m_getconfigure1(_flatten((\u001b[38;5;28mself\u001b[39m\u001b[38;5;241m.\u001b[39m_w, cmd, \u001b[38;5;124m'\u001b[39m\u001b[38;5;124m-\u001b[39m\u001b[38;5;124m'\u001b[39m\u001b[38;5;241m+\u001b[39mcnf)))\n\u001b[1;32m-> 1692\u001b[0m \u001b[38;5;28;43mself\u001b[39;49m\u001b[38;5;241;43m.\u001b[39;49m\u001b[43mtk\u001b[49m\u001b[38;5;241;43m.\u001b[39;49m\u001b[43mcall\u001b[49m\u001b[43m(\u001b[49m\u001b[43m_flatten\u001b[49m\u001b[43m(\u001b[49m\u001b[43m(\u001b[49m\u001b[38;5;28;43mself\u001b[39;49m\u001b[38;5;241;43m.\u001b[39;49m\u001b[43m_w\u001b[49m\u001b[43m,\u001b[49m\u001b[43m \u001b[49m\u001b[43mcmd\u001b[49m\u001b[43m)\u001b[49m\u001b[43m)\u001b[49m\u001b[43m \u001b[49m\u001b[38;5;241;43m+\u001b[39;49m\u001b[43m \u001b[49m\u001b[38;5;28;43mself\u001b[39;49m\u001b[38;5;241;43m.\u001b[39;49m\u001b[43m_options\u001b[49m\u001b[43m(\u001b[49m\u001b[43mcnf\u001b[49m\u001b[43m)\u001b[49m\u001b[43m)\u001b[49m\n",
      "\u001b[1;31mTclError\u001b[0m: invalid command name \".!label\""
     ]
    }
   ],
   "source": [
    "def dechiffre():\n",
    "\n",
    "# gère la lecture dans les champs d'entrée et l'affichage du résultat \n",
    "    if len(entree_cle.get())==0 or len(entree_texte.get()) ==0:\n",
    "        resultat.config(text='remplir les deux champ')\n",
    "    else:\n",
    "        resultat.delete(0,tk.END)\n",
    "        resultat.insert(0,dec_texte_inv(entree_texte.get(),entree_cle.get()))\n",
    "\n",
    "def chiffre():#gère la lecture dans les champs d'entrée et l'affichage du résultat \n",
    "     if len(entree_cle.get())==0 or len(entree_texte.get()) ==0:\n",
    "        resultat.config(text='remplir les deux champ')\n",
    "     else:\n",
    "        resultat.delete(0,tk.END)\n",
    "        resultat.insert(0,dec_texte(entree_texte.get(),entree_cle.get()))\n",
    "\n",
    "fenetre=tk.Tk()\n",
    "fenetre.title(\"Crypto\")\n",
    "fenetre.geometry(\"500x300\")\n",
    "entree_texte=tk.Entry(fenetre, width=30)\n",
    "entree_texte.grid(column=1,row=0)\n",
    "\n",
    "entree_cle=tk.Entry(fenetre, width=30)\n",
    "entree_cle.grid(column=2,row=0)\n",
    "\n",
    "\n",
    "\n",
    "ButtonCrypt=tk.Button(fenetre, text=\"crypter\",command=chiffre())\n",
    "ButtonCrypt.grid(column=1,row=1)\n",
    "\n",
    "ButtonDecrypt=tk.Button(fenetre, text= \"decrypter\", command=dechiffre())\n",
    "resultat=tk.Label(fenetre,text=\"resultat\")\n",
    "resultat.grid(column=2,row=3)\n",
    "ButtonDecrypt.grid(column=2,row=1)\n",
    "fenetre.mainloop()"
   ]
  },
  {
   "cell_type": "code",
   "execution_count": null,
   "metadata": {},
   "outputs": [],
   "source": []
  }
 ],
 "metadata": {
  "kernelspec": {
   "display_name": "Python 3",
   "language": "python",
   "name": "python3"
  },
  "language_info": {
   "codemirror_mode": {
    "name": "ipython",
    "version": 3
   },
   "file_extension": ".py",
   "mimetype": "text/x-python",
   "name": "python",
   "nbconvert_exporter": "python",
   "pygments_lexer": "ipython3",
   "version": "3.8.5"
  }
 },
 "nbformat": 4,
 "nbformat_minor": 4
}
